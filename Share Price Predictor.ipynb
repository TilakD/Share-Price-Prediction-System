{
 "cells": [
  {
   "cell_type": "code",
   "execution_count": 218,
   "metadata": {
    "collapsed": false
   },
   "outputs": [],
   "source": [
    "import numpy as np\n",
    "import pandas as pd\n",
    "import math\n",
    "from sklearn import preprocessing, cross_validation, svm\n",
    "from sklearn.linear_model import LinearRegression\n",
    "\n",
    "import matplotlib.pyplot as plt\n",
    "%matplotlib inline\n",
    "from matplotlib import style\n",
    "import datetime"
   ]
  },
  {
   "cell_type": "code",
   "execution_count": 219,
   "metadata": {
    "collapsed": true
   },
   "outputs": [],
   "source": [
    "style.use('ggplot')"
   ]
  },
  {
   "cell_type": "code",
   "execution_count": 220,
   "metadata": {
    "collapsed": false
   },
   "outputs": [
    {
     "name": "stdout",
     "output_type": "stream",
     "text": [
      "Data successfully read!!\n"
     ]
    }
   ],
   "source": [
    "share_data = pd.read_csv(\"table.csv\")\n",
    "print(\"Data successfully read!!\")"
   ]
  },
  {
   "cell_type": "code",
   "execution_count": 221,
   "metadata": {
    "collapsed": false
   },
   "outputs": [
    {
     "data": {
      "text/html": [
       "<div>\n",
       "<table border=\"1\" class=\"dataframe\">\n",
       "  <thead>\n",
       "    <tr style=\"text-align: right;\">\n",
       "      <th></th>\n",
       "      <th>Date</th>\n",
       "      <th>Open</th>\n",
       "      <th>High</th>\n",
       "      <th>Low</th>\n",
       "      <th>Close</th>\n",
       "      <th>Volume</th>\n",
       "      <th>Adj Close</th>\n",
       "    </tr>\n",
       "  </thead>\n",
       "  <tbody>\n",
       "    <tr>\n",
       "      <th>0</th>\n",
       "      <td>07-10-16</td>\n",
       "      <td>14.70</td>\n",
       "      <td>14.71</td>\n",
       "      <td>14.26</td>\n",
       "      <td>14.46</td>\n",
       "      <td>3082100</td>\n",
       "      <td>14.46</td>\n",
       "    </tr>\n",
       "    <tr>\n",
       "      <th>1</th>\n",
       "      <td>10-10-16</td>\n",
       "      <td>14.45</td>\n",
       "      <td>15.00</td>\n",
       "      <td>14.45</td>\n",
       "      <td>14.77</td>\n",
       "      <td>2616000</td>\n",
       "      <td>14.77</td>\n",
       "    </tr>\n",
       "    <tr>\n",
       "      <th>2</th>\n",
       "      <td>11-10-16</td>\n",
       "      <td>14.77</td>\n",
       "      <td>14.77</td>\n",
       "      <td>14.77</td>\n",
       "      <td>14.77</td>\n",
       "      <td>0</td>\n",
       "      <td>14.77</td>\n",
       "    </tr>\n",
       "    <tr>\n",
       "      <th>3</th>\n",
       "      <td>12-10-16</td>\n",
       "      <td>14.77</td>\n",
       "      <td>14.77</td>\n",
       "      <td>14.77</td>\n",
       "      <td>14.77</td>\n",
       "      <td>0</td>\n",
       "      <td>14.77</td>\n",
       "    </tr>\n",
       "    <tr>\n",
       "      <th>4</th>\n",
       "      <td>13-10-16</td>\n",
       "      <td>14.95</td>\n",
       "      <td>15.32</td>\n",
       "      <td>14.60</td>\n",
       "      <td>14.72</td>\n",
       "      <td>3496000</td>\n",
       "      <td>14.72</td>\n",
       "    </tr>\n",
       "    <tr>\n",
       "      <th>5</th>\n",
       "      <td>14-10-16</td>\n",
       "      <td>15.00</td>\n",
       "      <td>15.00</td>\n",
       "      <td>14.46</td>\n",
       "      <td>14.62</td>\n",
       "      <td>2718700</td>\n",
       "      <td>14.62</td>\n",
       "    </tr>\n",
       "    <tr>\n",
       "      <th>6</th>\n",
       "      <td>17-10-16</td>\n",
       "      <td>14.55</td>\n",
       "      <td>14.59</td>\n",
       "      <td>14.30</td>\n",
       "      <td>14.37</td>\n",
       "      <td>2595700</td>\n",
       "      <td>14.37</td>\n",
       "    </tr>\n",
       "    <tr>\n",
       "      <th>7</th>\n",
       "      <td>18-10-16</td>\n",
       "      <td>14.42</td>\n",
       "      <td>14.54</td>\n",
       "      <td>14.30</td>\n",
       "      <td>14.36</td>\n",
       "      <td>3155200</td>\n",
       "      <td>14.36</td>\n",
       "    </tr>\n",
       "    <tr>\n",
       "      <th>8</th>\n",
       "      <td>19-10-16</td>\n",
       "      <td>14.46</td>\n",
       "      <td>15.32</td>\n",
       "      <td>14.36</td>\n",
       "      <td>14.80</td>\n",
       "      <td>25956300</td>\n",
       "      <td>14.80</td>\n",
       "    </tr>\n",
       "    <tr>\n",
       "      <th>9</th>\n",
       "      <td>20-10-16</td>\n",
       "      <td>15.14</td>\n",
       "      <td>15.35</td>\n",
       "      <td>15.00</td>\n",
       "      <td>15.10</td>\n",
       "      <td>5324700</td>\n",
       "      <td>15.10</td>\n",
       "    </tr>\n",
       "  </tbody>\n",
       "</table>\n",
       "</div>"
      ],
      "text/plain": [
       "       Date   Open   High    Low  Close    Volume  Adj Close\n",
       "0  07-10-16  14.70  14.71  14.26  14.46   3082100      14.46\n",
       "1  10-10-16  14.45  15.00  14.45  14.77   2616000      14.77\n",
       "2  11-10-16  14.77  14.77  14.77  14.77         0      14.77\n",
       "3  12-10-16  14.77  14.77  14.77  14.77         0      14.77\n",
       "4  13-10-16  14.95  15.32  14.60  14.72   3496000      14.72\n",
       "5  14-10-16  15.00  15.00  14.46  14.62   2718700      14.62\n",
       "6  17-10-16  14.55  14.59  14.30  14.37   2595700      14.37\n",
       "7  18-10-16  14.42  14.54  14.30  14.36   3155200      14.36\n",
       "8  19-10-16  14.46  15.32  14.36  14.80  25956300      14.80\n",
       "9  20-10-16  15.14  15.35  15.00  15.10   5324700      15.10"
      ]
     },
     "execution_count": 221,
     "metadata": {},
     "output_type": "execute_result"
    }
   ],
   "source": [
    "share_data.head(10)"
   ]
  },
  {
   "cell_type": "code",
   "execution_count": 222,
   "metadata": {
    "collapsed": false
   },
   "outputs": [
    {
     "data": {
      "text/html": [
       "<div>\n",
       "<table border=\"1\" class=\"dataframe\">\n",
       "  <thead>\n",
       "    <tr style=\"text-align: right;\">\n",
       "      <th></th>\n",
       "      <th>Open</th>\n",
       "      <th>High</th>\n",
       "      <th>Low</th>\n",
       "      <th>Close</th>\n",
       "      <th>Volume</th>\n",
       "      <th>Adj Close</th>\n",
       "    </tr>\n",
       "  </thead>\n",
       "  <tbody>\n",
       "    <tr>\n",
       "      <th>count</th>\n",
       "      <td>130.000000</td>\n",
       "      <td>130.000000</td>\n",
       "      <td>130.000000</td>\n",
       "      <td>130.000000</td>\n",
       "      <td>1.300000e+02</td>\n",
       "      <td>130.000000</td>\n",
       "    </tr>\n",
       "    <tr>\n",
       "      <th>mean</th>\n",
       "      <td>15.997308</td>\n",
       "      <td>16.257846</td>\n",
       "      <td>15.732923</td>\n",
       "      <td>15.940154</td>\n",
       "      <td>5.605226e+06</td>\n",
       "      <td>15.940154</td>\n",
       "    </tr>\n",
       "    <tr>\n",
       "      <th>std</th>\n",
       "      <td>1.677744</td>\n",
       "      <td>1.731572</td>\n",
       "      <td>1.650467</td>\n",
       "      <td>1.663291</td>\n",
       "      <td>5.134142e+06</td>\n",
       "      <td>1.663291</td>\n",
       "    </tr>\n",
       "    <tr>\n",
       "      <th>min</th>\n",
       "      <td>13.550000</td>\n",
       "      <td>13.750000</td>\n",
       "      <td>12.470000</td>\n",
       "      <td>13.660000</td>\n",
       "      <td>0.000000e+00</td>\n",
       "      <td>13.660000</td>\n",
       "    </tr>\n",
       "    <tr>\n",
       "      <th>25%</th>\n",
       "      <td>14.650000</td>\n",
       "      <td>14.852500</td>\n",
       "      <td>14.460000</td>\n",
       "      <td>14.620000</td>\n",
       "      <td>2.529850e+06</td>\n",
       "      <td>14.620000</td>\n",
       "    </tr>\n",
       "    <tr>\n",
       "      <th>50%</th>\n",
       "      <td>15.175000</td>\n",
       "      <td>15.375000</td>\n",
       "      <td>14.970000</td>\n",
       "      <td>15.135000</td>\n",
       "      <td>3.939900e+06</td>\n",
       "      <td>15.135000</td>\n",
       "    </tr>\n",
       "    <tr>\n",
       "      <th>75%</th>\n",
       "      <td>17.437500</td>\n",
       "      <td>17.787500</td>\n",
       "      <td>17.137500</td>\n",
       "      <td>17.350000</td>\n",
       "      <td>6.587225e+06</td>\n",
       "      <td>17.350000</td>\n",
       "    </tr>\n",
       "    <tr>\n",
       "      <th>max</th>\n",
       "      <td>19.750000</td>\n",
       "      <td>19.850000</td>\n",
       "      <td>19.200000</td>\n",
       "      <td>19.450000</td>\n",
       "      <td>2.595630e+07</td>\n",
       "      <td>19.450000</td>\n",
       "    </tr>\n",
       "  </tbody>\n",
       "</table>\n",
       "</div>"
      ],
      "text/plain": [
       "             Open        High         Low       Close        Volume  \\\n",
       "count  130.000000  130.000000  130.000000  130.000000  1.300000e+02   \n",
       "mean    15.997308   16.257846   15.732923   15.940154  5.605226e+06   \n",
       "std      1.677744    1.731572    1.650467    1.663291  5.134142e+06   \n",
       "min     13.550000   13.750000   12.470000   13.660000  0.000000e+00   \n",
       "25%     14.650000   14.852500   14.460000   14.620000  2.529850e+06   \n",
       "50%     15.175000   15.375000   14.970000   15.135000  3.939900e+06   \n",
       "75%     17.437500   17.787500   17.137500   17.350000  6.587225e+06   \n",
       "max     19.750000   19.850000   19.200000   19.450000  2.595630e+07   \n",
       "\n",
       "        Adj Close  \n",
       "count  130.000000  \n",
       "mean    15.940154  \n",
       "std      1.663291  \n",
       "min     13.660000  \n",
       "25%     14.620000  \n",
       "50%     15.135000  \n",
       "75%     17.350000  \n",
       "max     19.450000  "
      ]
     },
     "execution_count": 222,
     "metadata": {},
     "output_type": "execute_result"
    }
   ],
   "source": [
    "share_data.describe()"
   ]
  },
  {
   "cell_type": "code",
   "execution_count": 223,
   "metadata": {
    "collapsed": false
   },
   "outputs": [
    {
     "data": {
      "text/html": [
       "<div>\n",
       "<table border=\"1\" class=\"dataframe\">\n",
       "  <thead>\n",
       "    <tr style=\"text-align: right;\">\n",
       "      <th></th>\n",
       "      <th>Open</th>\n",
       "      <th>High</th>\n",
       "      <th>Low</th>\n",
       "      <th>Close</th>\n",
       "      <th>Volume</th>\n",
       "    </tr>\n",
       "  </thead>\n",
       "  <tbody>\n",
       "    <tr>\n",
       "      <th>0</th>\n",
       "      <td>14.70</td>\n",
       "      <td>14.71</td>\n",
       "      <td>14.26</td>\n",
       "      <td>14.46</td>\n",
       "      <td>3082100</td>\n",
       "    </tr>\n",
       "    <tr>\n",
       "      <th>1</th>\n",
       "      <td>14.45</td>\n",
       "      <td>15.00</td>\n",
       "      <td>14.45</td>\n",
       "      <td>14.77</td>\n",
       "      <td>2616000</td>\n",
       "    </tr>\n",
       "    <tr>\n",
       "      <th>2</th>\n",
       "      <td>14.77</td>\n",
       "      <td>14.77</td>\n",
       "      <td>14.77</td>\n",
       "      <td>14.77</td>\n",
       "      <td>0</td>\n",
       "    </tr>\n",
       "    <tr>\n",
       "      <th>3</th>\n",
       "      <td>14.77</td>\n",
       "      <td>14.77</td>\n",
       "      <td>14.77</td>\n",
       "      <td>14.77</td>\n",
       "      <td>0</td>\n",
       "    </tr>\n",
       "    <tr>\n",
       "      <th>4</th>\n",
       "      <td>14.95</td>\n",
       "      <td>15.32</td>\n",
       "      <td>14.60</td>\n",
       "      <td>14.72</td>\n",
       "      <td>3496000</td>\n",
       "    </tr>\n",
       "  </tbody>\n",
       "</table>\n",
       "</div>"
      ],
      "text/plain": [
       "    Open   High    Low  Close   Volume\n",
       "0  14.70  14.71  14.26  14.46  3082100\n",
       "1  14.45  15.00  14.45  14.77  2616000\n",
       "2  14.77  14.77  14.77  14.77        0\n",
       "3  14.77  14.77  14.77  14.77        0\n",
       "4  14.95  15.32  14.60  14.72  3496000"
      ]
     },
     "execution_count": 223,
     "metadata": {},
     "output_type": "execute_result"
    }
   ],
   "source": [
    "required_share_data = share_data[['Open','High','Low','Close','Volume']]\n",
    "required_share_data.head()"
   ]
  },
  {
   "cell_type": "code",
   "execution_count": 224,
   "metadata": {
    "collapsed": false
   },
   "outputs": [
    {
     "name": "stderr",
     "output_type": "stream",
     "text": [
      "I:\\Anaconda\\lib\\site-packages\\ipykernel\\__main__.py:1: SettingWithCopyWarning: \n",
      "A value is trying to be set on a copy of a slice from a DataFrame.\n",
      "Try using .loc[row_indexer,col_indexer] = value instead\n",
      "\n",
      "See the caveats in the documentation: http://pandas.pydata.org/pandas-docs/stable/indexing.html#indexing-view-versus-copy\n",
      "  if __name__ == '__main__':\n"
     ]
    }
   ],
   "source": [
    "required_share_data['HL_PCT'] = (required_share_data['High']-required_share_data['Close'])/required_share_data['Close'] * 100\n",
    "required_share_data['PCT_change'] = (required_share_data['Close']-required_share_data['Open'])/required_share_data['Open'] * 100"
   ]
  },
  {
   "cell_type": "code",
   "execution_count": 225,
   "metadata": {
    "collapsed": false
   },
   "outputs": [
    {
     "data": {
      "text/html": [
       "<div>\n",
       "<table border=\"1\" class=\"dataframe\">\n",
       "  <thead>\n",
       "    <tr style=\"text-align: right;\">\n",
       "      <th></th>\n",
       "      <th>Close</th>\n",
       "      <th>HL_PCT</th>\n",
       "      <th>PCT_change</th>\n",
       "      <th>Volume</th>\n",
       "    </tr>\n",
       "  </thead>\n",
       "  <tbody>\n",
       "    <tr>\n",
       "      <th>0</th>\n",
       "      <td>14.46</td>\n",
       "      <td>1.728907</td>\n",
       "      <td>-1.632653</td>\n",
       "      <td>3082100</td>\n",
       "    </tr>\n",
       "    <tr>\n",
       "      <th>1</th>\n",
       "      <td>14.77</td>\n",
       "      <td>1.557211</td>\n",
       "      <td>2.214533</td>\n",
       "      <td>2616000</td>\n",
       "    </tr>\n",
       "    <tr>\n",
       "      <th>2</th>\n",
       "      <td>14.77</td>\n",
       "      <td>0.000000</td>\n",
       "      <td>0.000000</td>\n",
       "      <td>0</td>\n",
       "    </tr>\n",
       "    <tr>\n",
       "      <th>3</th>\n",
       "      <td>14.77</td>\n",
       "      <td>0.000000</td>\n",
       "      <td>0.000000</td>\n",
       "      <td>0</td>\n",
       "    </tr>\n",
       "    <tr>\n",
       "      <th>4</th>\n",
       "      <td>14.72</td>\n",
       "      <td>4.076087</td>\n",
       "      <td>-1.538462</td>\n",
       "      <td>3496000</td>\n",
       "    </tr>\n",
       "  </tbody>\n",
       "</table>\n",
       "</div>"
      ],
      "text/plain": [
       "   Close    HL_PCT  PCT_change   Volume\n",
       "0  14.46  1.728907   -1.632653  3082100\n",
       "1  14.77  1.557211    2.214533  2616000\n",
       "2  14.77  0.000000    0.000000        0\n",
       "3  14.77  0.000000    0.000000        0\n",
       "4  14.72  4.076087   -1.538462  3496000"
      ]
     },
     "execution_count": 225,
     "metadata": {},
     "output_type": "execute_result"
    }
   ],
   "source": [
    "required_share_data = required_share_data[['Close','HL_PCT','PCT_change','Volume']]\n",
    "required_share_data.head()"
   ]
  },
  {
   "cell_type": "code",
   "execution_count": 226,
   "metadata": {
    "collapsed": false
   },
   "outputs": [],
   "source": [
    "forecast_col = 'Close'\n",
    "required_share_data.fillna(-99999, inplace = True)"
   ]
  },
  {
   "cell_type": "code",
   "execution_count": 243,
   "metadata": {
    "collapsed": false
   },
   "outputs": [
    {
     "data": {
      "text/html": [
       "<div>\n",
       "<table border=\"1\" class=\"dataframe\">\n",
       "  <thead>\n",
       "    <tr style=\"text-align: right;\">\n",
       "      <th></th>\n",
       "      <th>Close</th>\n",
       "      <th>HL_PCT</th>\n",
       "      <th>PCT_change</th>\n",
       "      <th>Volume</th>\n",
       "      <th>label</th>\n",
       "    </tr>\n",
       "  </thead>\n",
       "  <tbody>\n",
       "    <tr>\n",
       "      <th>0</th>\n",
       "      <td>14.46</td>\n",
       "      <td>1.728907</td>\n",
       "      <td>-1.632653</td>\n",
       "      <td>3082100</td>\n",
       "      <td>14.65</td>\n",
       "    </tr>\n",
       "    <tr>\n",
       "      <th>1</th>\n",
       "      <td>14.77</td>\n",
       "      <td>1.557211</td>\n",
       "      <td>2.214533</td>\n",
       "      <td>2616000</td>\n",
       "      <td>14.72</td>\n",
       "    </tr>\n",
       "    <tr>\n",
       "      <th>2</th>\n",
       "      <td>14.77</td>\n",
       "      <td>0.000000</td>\n",
       "      <td>0.000000</td>\n",
       "      <td>0</td>\n",
       "      <td>14.61</td>\n",
       "    </tr>\n",
       "    <tr>\n",
       "      <th>3</th>\n",
       "      <td>14.77</td>\n",
       "      <td>0.000000</td>\n",
       "      <td>0.000000</td>\n",
       "      <td>0</td>\n",
       "      <td>15.16</td>\n",
       "    </tr>\n",
       "    <tr>\n",
       "      <th>4</th>\n",
       "      <td>14.72</td>\n",
       "      <td>4.076087</td>\n",
       "      <td>-1.538462</td>\n",
       "      <td>3496000</td>\n",
       "      <td>15.16</td>\n",
       "    </tr>\n",
       "    <tr>\n",
       "      <th>5</th>\n",
       "      <td>14.62</td>\n",
       "      <td>2.599179</td>\n",
       "      <td>-2.533333</td>\n",
       "      <td>2718700</td>\n",
       "      <td>15.13</td>\n",
       "    </tr>\n",
       "    <tr>\n",
       "      <th>6</th>\n",
       "      <td>14.37</td>\n",
       "      <td>1.530967</td>\n",
       "      <td>-1.237113</td>\n",
       "      <td>2595700</td>\n",
       "      <td>14.74</td>\n",
       "    </tr>\n",
       "    <tr>\n",
       "      <th>7</th>\n",
       "      <td>14.36</td>\n",
       "      <td>1.253482</td>\n",
       "      <td>-0.416089</td>\n",
       "      <td>3155200</td>\n",
       "      <td>14.60</td>\n",
       "    </tr>\n",
       "    <tr>\n",
       "      <th>8</th>\n",
       "      <td>14.80</td>\n",
       "      <td>3.513514</td>\n",
       "      <td>2.351314</td>\n",
       "      <td>25956300</td>\n",
       "      <td>14.32</td>\n",
       "    </tr>\n",
       "    <tr>\n",
       "      <th>9</th>\n",
       "      <td>15.10</td>\n",
       "      <td>1.655629</td>\n",
       "      <td>-0.264201</td>\n",
       "      <td>5324700</td>\n",
       "      <td>14.76</td>\n",
       "    </tr>\n",
       "    <tr>\n",
       "      <th>10</th>\n",
       "      <td>14.81</td>\n",
       "      <td>3.241053</td>\n",
       "      <td>-2.885246</td>\n",
       "      <td>2831400</td>\n",
       "      <td>14.62</td>\n",
       "    </tr>\n",
       "    <tr>\n",
       "      <th>11</th>\n",
       "      <td>14.81</td>\n",
       "      <td>1.147873</td>\n",
       "      <td>-1.134846</td>\n",
       "      <td>2258700</td>\n",
       "      <td>14.25</td>\n",
       "    </tr>\n",
       "    <tr>\n",
       "      <th>12</th>\n",
       "      <td>14.65</td>\n",
       "      <td>1.706485</td>\n",
       "      <td>-1.013514</td>\n",
       "      <td>2237500</td>\n",
       "      <td>15.03</td>\n",
       "    </tr>\n",
       "    <tr>\n",
       "      <th>13</th>\n",
       "      <td>14.72</td>\n",
       "      <td>3.192935</td>\n",
       "      <td>-0.203390</td>\n",
       "      <td>3461300</td>\n",
       "      <td>14.56</td>\n",
       "    </tr>\n",
       "    <tr>\n",
       "      <th>14</th>\n",
       "      <td>14.61</td>\n",
       "      <td>1.642710</td>\n",
       "      <td>-0.949153</td>\n",
       "      <td>2358700</td>\n",
       "      <td>14.56</td>\n",
       "    </tr>\n",
       "  </tbody>\n",
       "</table>\n",
       "</div>"
      ],
      "text/plain": [
       "    Close    HL_PCT  PCT_change    Volume  label\n",
       "0   14.46  1.728907   -1.632653   3082100  14.65\n",
       "1   14.77  1.557211    2.214533   2616000  14.72\n",
       "2   14.77  0.000000    0.000000         0  14.61\n",
       "3   14.77  0.000000    0.000000         0  15.16\n",
       "4   14.72  4.076087   -1.538462   3496000  15.16\n",
       "5   14.62  2.599179   -2.533333   2718700  15.13\n",
       "6   14.37  1.530967   -1.237113   2595700  14.74\n",
       "7   14.36  1.253482   -0.416089   3155200  14.60\n",
       "8   14.80  3.513514    2.351314  25956300  14.32\n",
       "9   15.10  1.655629   -0.264201   5324700  14.76\n",
       "10  14.81  3.241053   -2.885246   2831400  14.62\n",
       "11  14.81  1.147873   -1.134846   2258700  14.25\n",
       "12  14.65  1.706485   -1.013514   2237500  15.03\n",
       "13  14.72  3.192935   -0.203390   3461300  14.56\n",
       "14  14.61  1.642710   -0.949153   2358700  14.56"
      ]
     },
     "execution_count": 243,
     "metadata": {},
     "output_type": "execute_result"
    }
   ],
   "source": [
    "forecast_out = int(math.ceil(0.1*len(required_share_data)))  #10 days\n",
    "required_share_data['label'] = required_share_data[forecast_col].shift(-forecast_out)\n",
    "required_share_data.head(15)"
   ]
  },
  {
   "cell_type": "code",
   "execution_count": 244,
   "metadata": {
    "collapsed": false
   },
   "outputs": [],
   "source": [
    "X = np.array(required_share_data.drop(['label'],1))\n",
    "X = preprocessing.scale(X)\n",
    "X_lately = X[-forecast_out:]\n",
    "X = X[:-forecast_out]\n",
    "\n",
    "required_share_data.dropna(inplace = True)\n",
    "y = np.array(required_share_data['label'])\n",
    "y = np.array(required_share_data['label'])"
   ]
  },
  {
   "cell_type": "code",
   "execution_count": 245,
   "metadata": {
    "collapsed": false
   },
   "outputs": [
    {
     "name": "stdout",
     "output_type": "stream",
     "text": [
      "0.567396330012\n"
     ]
    }
   ],
   "source": [
    "X_train, X_test, y_train, y_test = cross_validation.train_test_split(X, y, test_size=0.3, random_state=42)\n",
    "clf = LinearRegression()\n",
    "clf.fit(X_train, y_train)\n",
    "accuracy = clf.score(X_test,y_test)\n",
    "\n",
    "print(accuracy)"
   ]
  },
  {
   "cell_type": "code",
   "execution_count": 246,
   "metadata": {
    "collapsed": false
   },
   "outputs": [
    {
     "name": "stdout",
     "output_type": "stream",
     "text": [
      "(array([ 17.59670593,  17.86219214,  17.66709459,  17.80418635,\n",
      "        17.49364145,  17.43159855,  17.20807414,  17.34867744,\n",
      "        17.24784743,  17.13831721,  17.78016774,  18.19371461]), 0.56739633001159684, 12)\n"
     ]
    }
   ],
   "source": [
    "forecast_set = clf.predict(X_lately)\n",
    "print(forecast_set, accuracy, forecast_out)"
   ]
  },
  {
   "cell_type": "code",
   "execution_count": 247,
   "metadata": {
    "collapsed": false
   },
   "outputs": [],
   "source": [
    "old_close = required_share_data['Close']\n",
    "predicted_new_close = forecast_set\n",
    "\n",
    "close_joined_for_graph = np.append(old_close, predicted_new_close)"
   ]
  },
  {
   "cell_type": "code",
   "execution_count": 248,
   "metadata": {
    "collapsed": false
   },
   "outputs": [
    {
     "data": {
      "text/plain": [
       "<matplotlib.axes._subplots.AxesSubplot at 0x1093f810>"
      ]
     },
     "execution_count": 248,
     "metadata": {},
     "output_type": "execute_result"
    },
    {
     "data": {
      "image/png": "[encoded data removed]",
      "text/plain": [
       "<matplotlib.figure.Figure at 0x10b606b0>"
      ]
     },
     "metadata": {},
     "output_type": "display_data"
    }
   ],
   "source": [
    "required_share_data['Close'].plot()"
   ]
  },
  {
   "cell_type": "code",
   "execution_count": 249,
   "metadata": {
    "collapsed": false
   },
   "outputs": [
    {
     "data": {
      "text/plain": [
       "[<matplotlib.lines.Line2D at 0x10d9e6b0>]"
      ]
     },
     "execution_count": 249,
     "metadata": {},
     "output_type": "execute_result"
    },
    {
     "data": {
      "image/png": "[encoded data removed]",
      "text/plain": [
       "<matplotlib.figure.Figure at 0x10d2ccb0>"
      ]
     },
     "metadata": {},
     "output_type": "display_data"
    }
   ],
   "source": [
    "plt.plot(close_joined_for_graph)"
   ]
  },
  {
   "cell_type": "code",
   "execution_count": null,
   "metadata": {
    "collapsed": true
   },
   "outputs": [],
   "source": []
  }
 ],
 "metadata": {
  "anaconda-cloud": {},
  "kernelspec": {
   "display_name": "Python [default]",
   "language": "python",
   "name": "python2"
  },
  "language_info": {
   "codemirror_mode": {
    "name": "ipython",
    "version": 2
   },
   "file_extension": ".py",
   "mimetype": "text/x-python",
   "name": "python",
   "nbconvert_exporter": "python",
   "pygments_lexer": "ipython2",
   "version": "2.7.12"
  }
 },
 "nbformat": 4,
 "nbformat_minor": 1
}
